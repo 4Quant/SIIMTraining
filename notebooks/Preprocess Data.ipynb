{
 "cells": [
  {
   "cell_type": "code",
   "execution_count": 16,
   "metadata": {
    "collapsed": true
   },
   "outputs": [],
   "source": [
    "import numpy as np\n",
    "import pandas as pd\n",
    "from tqdm import tqdm\n",
    "from dicom import read_file as read_dicom_file\n",
    "import os\n",
    "from skimage.io import imsave\n",
    "from glob import glob\n",
    "from itertools import groupby"
   ]
  },
  {
   "cell_type": "markdown",
   "metadata": {},
   "source": [
    "# Preprocessing\n",
    "Here we preprocess the TCGA DICOM files for making some simple training data for the exercise"
   ]
  },
  {
   "cell_type": "code",
   "execution_count": 9,
   "metadata": {
    "collapsed": false
   },
   "outputs": [
    {
     "name": "stdout",
     "output_type": "stream",
     "text": [
      "DICOMS found: 82093\n"
     ]
    }
   ],
   "source": [
    "all_dicoms = glob('/Users/mader/Documents/TCGA_DICOMS/DOI/*/*/*/*.dcm')\n",
    "print('DICOMS found:', len(all_dicoms))"
   ]
  },
  {
   "cell_type": "code",
   "execution_count": 17,
   "metadata": {
    "collapsed": false
   },
   "outputs": [
    {
     "name": "stdout",
     "output_type": "stream",
     "text": [
      "Number of Middle Slices 589\n"
     ]
    }
   ],
   "source": [
    "fold_list = [(series_id, list(slices)) for series_id,slices in groupby(all_dicoms, lambda x: os.path.dirname(x))]\n",
    "middle_slice_dicoms = [sorted(slices)[int(len(slices)/2)] for series_id,slices in fold_list if len(slices)>10] # at least 10 slices\n",
    "print('Number of Middle Slices', len(middle_slice_dicoms))"
   ]
  },
  {
   "cell_type": "code",
   "execution_count": 51,
   "metadata": {
    "collapsed": false
   },
   "outputs": [
    {
     "name": "stderr",
     "output_type": "stream",
     "text": [
      "\n",
      "\n",
      "  0%|          | 0/589 [00:00<?, ?it/s]\u001b[A\u001b[A\n",
      "\n",
      "  3%|▎         | 19/589 [00:00<00:03, 182.75it/s]\u001b[A\u001b[A\n",
      "\n",
      "  7%|▋         | 42/589 [00:00<00:02, 194.43it/s]\u001b[A\u001b[A\n",
      "\n",
      " 11%|█         | 66/589 [00:00<00:02, 205.97it/s]\u001b[A\u001b[A\n",
      "\n",
      " 15%|█▌        | 91/589 [00:00<00:02, 216.69it/s]\u001b[A\u001b[A\n",
      "\n",
      " 20%|██        | 119/589 [00:00<00:02, 231.41it/s]\u001b[A\u001b[A\n",
      "\n",
      " 24%|██▍       | 140/589 [00:00<00:02, 199.96it/s]\u001b[A\u001b[A\n",
      "\n",
      " 27%|██▋       | 159/589 [00:00<00:02, 187.25it/s]\u001b[A\u001b[A\n",
      "\n",
      " 30%|███       | 178/589 [00:00<00:02, 175.12it/s]\u001b[A\u001b[A\n",
      "\n",
      " 33%|███▎      | 196/589 [00:00<00:02, 171.91it/s]\u001b[A\u001b[A\n",
      "\n",
      " 37%|███▋      | 215/589 [00:01<00:02, 174.16it/s]\u001b[A\u001b[A\n",
      "\n",
      " 40%|███▉      | 233/589 [00:01<00:02, 148.20it/s]\u001b[A\u001b[A\n",
      "\n",
      "\n",
      " 42%|████▏     | 249/589 [00:01<00:02, 141.43it/s]\u001b[A\u001b[A\n",
      "\n",
      " 45%|████▍     | 264/589 [00:01<00:02, 137.54it/s]\u001b[A\u001b[A\n",
      "\n",
      " 47%|████▋     | 279/589 [00:01<00:02, 134.99it/s]\u001b[A\u001b[A\n",
      "\n",
      " 50%|████▉     | 293/589 [00:01<00:02, 126.92it/s]\u001b[A\u001b[A\n",
      "\n",
      " 52%|█████▏    | 306/589 [00:01<00:02, 125.96it/s]\u001b[A\u001b[A\n",
      "\n",
      " 54%|█████▍    | 319/589 [00:01<00:02, 124.77it/s]\u001b[A\u001b[A\n",
      "\n",
      " 57%|█████▋    | 337/589 [00:02<00:01, 136.04it/s]\u001b[A\u001b[A\n",
      "\n",
      " 60%|██████    | 354/589 [00:02<00:01, 140.74it/s]\u001b[A\u001b[A\n",
      "\n",
      " 63%|██████▎   | 369/589 [00:02<00:01, 134.04it/s]\u001b[A\u001b[A\n",
      "\n",
      " 65%|██████▌   | 383/589 [00:02<00:01, 133.40it/s]\u001b[A\u001b[A\n",
      "\n",
      " 67%|██████▋   | 397/589 [00:02<00:01, 127.41it/s]\u001b[A\u001b[A\n",
      "\n",
      " 70%|██████▉   | 410/589 [00:02<00:01, 124.87it/s]\u001b[A\u001b[A\n",
      "\n",
      " 72%|███████▏  | 423/589 [00:02<00:01, 119.07it/s]\u001b[A\u001b[A\n",
      "\n",
      " 74%|███████▍  | 436/589 [00:02<00:01, 120.82it/s]\u001b[A\u001b[A\n",
      "\n",
      " 76%|███████▌  | 449/589 [00:02<00:01, 122.43it/s]\u001b[A\u001b[A\n",
      "\n",
      " 79%|███████▊  | 463/589 [00:03<00:00, 126.98it/s]\u001b[A\u001b[A\n",
      "\n",
      " 81%|████████▏ | 480/589 [00:03<00:00, 135.54it/s]\u001b[A\u001b[A\n",
      "\n",
      " 85%|████████▍ | 499/589 [00:03<00:00, 147.34it/s]\u001b[A\u001b[A\n",
      "\n",
      " 87%|████████▋ | 515/589 [00:03<00:00, 140.91it/s]\u001b[A\u001b[A\n",
      "\n",
      " 90%|████████▉ | 530/589 [00:03<00:00, 133.62it/s]\u001b[A\u001b[A\n",
      "\n",
      " 92%|█████████▏| 544/589 [00:03<00:00, 124.44it/s]\u001b[A\u001b[A\n",
      "\n",
      " 95%|█████████▍| 557/589 [00:03<00:00, 119.04it/s]\u001b[A\u001b[A\n",
      "\n",
      " 97%|█████████▋| 574/589 [00:03<00:00, 130.41it/s]\u001b[A\u001b[A\n",
      "\n",
      "100%|██████████| 589/589 [00:03<00:00, 148.17it/s]\u001b[A\u001b[A\n",
      " 25%|██▌       | 149/589 [00:17<00:50,  8.69it/s]\u001b[A"
     ]
    }
   ],
   "source": [
    "def parse_dicom(in_file):\n",
    "    test_dicom = read_dicom_file(in_file)\n",
    "    return {'Age': test_dicom.get('PatientAge',None), \n",
    "            'Modality': test_dicom.Modality,\n",
    "           'Contrast': test_dicom.get((0x18,0x10),None), 'Image': \n",
    "           test_dicom.pixel_array+test_dicom.get('RescaleIntercept',0)}\n",
    "full_dicom_images = [parse_dicom(c_slice) for c_slice in tqdm(middle_slice_dicoms)]"
   ]
  },
  {
   "cell_type": "code",
   "execution_count": 60,
   "metadata": {
    "collapsed": false
   },
   "outputs": [
    {
     "name": "stdout",
     "output_type": "stream",
     "text": [
      "Pruned List (475, 4)\n"
     ]
    },
    {
     "data": {
      "text/html": [
       "<div>\n",
       "<table border=\"1\" class=\"dataframe\">\n",
       "  <thead>\n",
       "    <tr style=\"text-align: right;\">\n",
       "      <th></th>\n",
       "      <th>Age</th>\n",
       "      <th>Contrast</th>\n",
       "      <th>Image</th>\n",
       "      <th>Modality</th>\n",
       "    </tr>\n",
       "  </thead>\n",
       "  <tbody>\n",
       "    <tr>\n",
       "      <th>542</th>\n",
       "      <td>47</td>\n",
       "      <td>False</td>\n",
       "      <td>[[-3024.0, -3024.0, -3024.0, -3024.0, -3024.0,...</td>\n",
       "      <td>CT</td>\n",
       "    </tr>\n",
       "  </tbody>\n",
       "</table>\n",
       "</div>"
      ],
      "text/plain": [
       "     Age Contrast                                              Image Modality\n",
       "542   47    False  [[-3024.0, -3024.0, -3024.0, -3024.0, -3024.0,...       CT"
      ]
     },
     "execution_count": 60,
     "metadata": {},
     "output_type": "execute_result"
    }
   ],
   "source": [
    "dicom_df = pd.DataFrame(full_dicom_images)\n",
    "dicom_df = dicom_df.query('Modality == \"CT\"').query('Age == Age')\n",
    "dicom_df['Age'] = dicom_df['Age'].map(lambda x: int(x[:-1]))\n",
    "dicom_df['Contrast'] = dicom_df['Contrast'].map(lambda x: x is None)\n",
    "print('Pruned List', dicom_df.shape)\n",
    "dicom_df.sample(1)"
   ]
  },
  {
   "cell_type": "markdown",
   "metadata": {},
   "source": [
    "Number with and without contrast"
   ]
  },
  {
   "cell_type": "code",
   "execution_count": 62,
   "metadata": {
    "collapsed": false
   },
   "outputs": [
    {
     "data": {
      "text/plain": [
       "True     398\n",
       "False     77\n",
       "Name: Contrast, dtype: int64"
      ]
     },
     "execution_count": 62,
     "metadata": {},
     "output_type": "execute_result"
    }
   ],
   "source": [
    "dicom_df['Contrast'].value_counts()"
   ]
  },
  {
   "cell_type": "markdown",
   "metadata": {},
   "source": [
    "The age range for the dataset"
   ]
  },
  {
   "cell_type": "code",
   "execution_count": 64,
   "metadata": {
    "collapsed": false
   },
   "outputs": [
    {
     "data": {
      "text/plain": [
       "<matplotlib.axes._subplots.AxesSubplot at 0x15583c6d8>"
      ]
     },
     "execution_count": 64,
     "metadata": {},
     "output_type": "execute_result"
    },
    {
     "data": {
      "image/png": "[encoded data removed]",
      "text/plain": [
       "<matplotlib.figure.Figure at 0x1161ea6a0>"
      ]
     },
     "metadata": {},
     "output_type": "display_data"
    }
   ],
   "source": [
    "%matplotlib inline\n",
    "dicom_df['Age'].hist()"
   ]
  },
  {
   "cell_type": "code",
   "execution_count": 66,
   "metadata": {
    "collapsed": false
   },
   "outputs": [],
   "source": [
    "out_dir = '../images/'\n",
    "if not os.path.exists(out_dir): os.mkdir(out_dir)\n",
    "for idx, cur_row in dicom_df.iterrows():\n",
    "    age = cur_row['Age']\n",
    "    contrast = cur_row['Contrast']\n",
    "    n_img = cur_row['Image']\n",
    "    imsave(os.path.join(out_dir, 'ID_%04d_AGE_%04d_CONTRAST_%d_CT.tif' % (idx, age, contrast)),\n",
    "           n_img.astype(np))"
   ]
  },
  {
   "cell_type": "code",
   "execution_count": 68,
   "metadata": {
    "collapsed": false
   },
   "outputs": [],
   "source": [
    "dicom_df[['Age', 'Contrast']].to_csv('../data/overview.csv')"
   ]
  },
  {
   "cell_type": "code",
   "execution_count": 69,
   "metadata": {
    "collapsed": true
   },
   "outputs": [],
   "source": [
    "np.savez_compressed('../data/full_archive.npz', idx = dicom_df.index, image = dicom_df.Image)"
   ]
  },
  {
   "cell_type": "code",
   "execution_count": null,
   "metadata": {
    "collapsed": true
   },
   "outputs": [],
   "source": []
  }
 ],
 "metadata": {
  "anaconda-cloud": {},
  "kernelspec": {
   "display_name": "Python [default]",
   "language": "python",
   "name": "python3"
  },
  "language_info": {
   "codemirror_mode": {
    "name": "ipython",
    "version": 3
   },
   "file_extension": ".py",
   "mimetype": "text/x-python",
   "name": "python",
   "nbconvert_exporter": "python",
   "pygments_lexer": "ipython3",
   "version": "3.5.2"
  }
 },
 "nbformat": 4,
 "nbformat_minor": 1
}
